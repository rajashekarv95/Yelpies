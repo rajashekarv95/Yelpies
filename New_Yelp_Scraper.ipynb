{
  "nbformat": 4,
  "nbformat_minor": 0,
  "metadata": {
    "colab": {
      "name": "New Yelp Scraper",
      "provenance": [],
      "collapsed_sections": []
    },
    "kernelspec": {
      "display_name": "Python 3",
      "name": "python3"
    }
  },
  "cells": [
    {
      "cell_type": "code",
      "metadata": {
        "id": "d02XHlfE0hX3"
      },
      "source": [
        ""
      ],
      "execution_count": null,
      "outputs": []
    },
    {
      "cell_type": "code",
      "metadata": {
        "id": "zGsoA2w3-mmo"
      },
      "source": [
        "from google.colab import drive\n",
        "drive.mount('/content/drive')"
      ],
      "execution_count": null,
      "outputs": []
    },
    {
      "cell_type": "code",
      "metadata": {
        "id": "3FJGNTkHEfqn"
      },
      "source": [
        "! pip install yelpapi"
      ],
      "execution_count": null,
      "outputs": []
    },
    {
      "cell_type": "code",
      "metadata": {
        "colab": {
          "base_uri": "https://localhost:8080/"
        },
        "id": "geCYCPhixly3",
        "outputId": "fcd0dc22-e1a2-4658-ca6b-7db7bbce57f4"
      },
      "source": [
        "from bs4 import BeautifulSoup\n",
        "import urllib.request\n",
        "import pandas as pd\n",
        "import string\n",
        "import spacy\n",
        "import nltk\n",
        "from textblob import TextBlob\n",
        "nltk.download('punkt')\n",
        "from nltk.tokenize import word_tokenize\n",
        "import matplotlib.pyplot as plt\n",
        "import requests\n",
        "import json\n",
        "import time\n",
        "from yelpapi import YelpAPI\n",
        "import os"
      ],
      "execution_count": null,
      "outputs": [
        {
          "output_type": "stream",
          "text": [
            "[nltk_data] Downloading package punkt to /root/nltk_data...\n",
            "[nltk_data]   Unzipping tokenizers/punkt.zip.\n"
          ],
          "name": "stdout"
        }
      ]
    },
    {
      "cell_type": "code",
      "metadata": {
        "id": "09Flnt4nN4-b"
      },
      "source": [
        "sp = spacy.load('en_core_web_sm')\n",
        "all_stopwords = sp.Defaults.stop_words"
      ],
      "execution_count": null,
      "outputs": []
    },
    {
      "cell_type": "code",
      "metadata": {
        "id": "jJWfXyL-JDYw"
      },
      "source": [
        "name = 'starbucks'"
      ],
      "execution_count": null,
      "outputs": []
    },
    {
      "cell_type": "code",
      "metadata": {
        "id": "xlaMiZvvO-xM"
      },
      "source": [
        "def get_redirect(id, verbose = False):\n",
        "  response = requests.get('https://www.yelp.com/biz/{}'.format(id))\n",
        "  if response.history:\n",
        "      if verbose:\n",
        "        print(\"Request was redirected\")\n",
        "\n",
        "      resp = response.history[-1]\n",
        "      if verbose:\n",
        "        print(type(resp))\n",
        "        print(resp.status_code, resp.url)\n",
        "        print(\"Final destination:\")\n",
        "        print(response.status_code, response.url)\n",
        "  else:\n",
        "      if verbose:\n",
        "        print(\"Request was not redirected\")\n",
        "  return response.url"
      ],
      "execution_count": null,
      "outputs": []
    },
    {
      "cell_type": "code",
      "metadata": {
        "colab": {
          "base_uri": "https://localhost:8080/",
          "height": 35
        },
        "id": "yaFzBenUnSd_",
        "outputId": "73dcda1b-7ec0-4198-9158-9f3316ac941b"
      },
      "source": [
        "os.getcwd()"
      ],
      "execution_count": null,
      "outputs": [
        {
          "output_type": "execute_result",
          "data": {
            "application/vnd.google.colaboratory.intrinsic+json": {
              "type": "string"
            },
            "text/plain": [
              "'/content'"
            ]
          },
          "metadata": {
            "tags": []
          },
          "execution_count": 5
        }
      ]
    },
    {
      "cell_type": "code",
      "metadata": {
        "id": "j6Ky8qYmE2F7"
      },
      "source": [
        "os.chdir('drive/My Drive/1001')"
      ],
      "execution_count": null,
      "outputs": []
    },
    {
      "cell_type": "code",
      "metadata": {
        "id": "lXzEsKpg-eMn"
      },
      "source": [
        "baseline = pd.read_csv('DOHMH_New_York_City_Restaurant_Inspection_Results.csv')"
      ],
      "execution_count": null,
      "outputs": []
    },
    {
      "cell_type": "code",
      "metadata": {
        "colab": {
          "base_uri": "https://localhost:8080/",
          "height": 202
        },
        "id": "-eif9XzFFK5k",
        "outputId": "65ef6628-1c7e-4884-d0d1-b3bfede3808d"
      },
      "source": [
        "baseline.head(1)"
      ],
      "execution_count": null,
      "outputs": [
        {
          "output_type": "execute_result",
          "data": {
            "text/html": [
              "<div>\n",
              "<style scoped>\n",
              "    .dataframe tbody tr th:only-of-type {\n",
              "        vertical-align: middle;\n",
              "    }\n",
              "\n",
              "    .dataframe tbody tr th {\n",
              "        vertical-align: top;\n",
              "    }\n",
              "\n",
              "    .dataframe thead th {\n",
              "        text-align: right;\n",
              "    }\n",
              "</style>\n",
              "<table border=\"1\" class=\"dataframe\">\n",
              "  <thead>\n",
              "    <tr style=\"text-align: right;\">\n",
              "      <th></th>\n",
              "      <th>CAMIS</th>\n",
              "      <th>DBA</th>\n",
              "      <th>BORO</th>\n",
              "      <th>BUILDING</th>\n",
              "      <th>STREET</th>\n",
              "      <th>ZIPCODE</th>\n",
              "      <th>PHONE</th>\n",
              "      <th>CUISINE DESCRIPTION</th>\n",
              "      <th>INSPECTION DATE</th>\n",
              "      <th>ACTION</th>\n",
              "      <th>VIOLATION CODE</th>\n",
              "      <th>VIOLATION DESCRIPTION</th>\n",
              "      <th>CRITICAL FLAG</th>\n",
              "      <th>SCORE</th>\n",
              "      <th>GRADE</th>\n",
              "      <th>GRADE DATE</th>\n",
              "      <th>RECORD DATE</th>\n",
              "      <th>INSPECTION TYPE</th>\n",
              "      <th>Latitude</th>\n",
              "      <th>Longitude</th>\n",
              "      <th>Community Board</th>\n",
              "      <th>Council District</th>\n",
              "      <th>Census Tract</th>\n",
              "      <th>BIN</th>\n",
              "      <th>BBL</th>\n",
              "      <th>NTA</th>\n",
              "    </tr>\n",
              "  </thead>\n",
              "  <tbody>\n",
              "    <tr>\n",
              "      <th>0</th>\n",
              "      <td>50086566</td>\n",
              "      <td>F &amp; M CAMPO BELLO II RESTAURANT</td>\n",
              "      <td>Brooklyn</td>\n",
              "      <td>9128</td>\n",
              "      <td>5 AVENUE</td>\n",
              "      <td>11209.0</td>\n",
              "      <td>7186807888</td>\n",
              "      <td>Spanish</td>\n",
              "      <td>09/16/2019</td>\n",
              "      <td>Violations were cited in the following area(s).</td>\n",
              "      <td>10F</td>\n",
              "      <td>Non-food contact surface improperly constructe...</td>\n",
              "      <td>N</td>\n",
              "      <td>26.0</td>\n",
              "      <td>NaN</td>\n",
              "      <td>NaN</td>\n",
              "      <td>11/01/2020</td>\n",
              "      <td>Cycle Inspection / Initial Inspection</td>\n",
              "      <td>40.618348</td>\n",
              "      <td>-74.028921</td>\n",
              "      <td>310.0</td>\n",
              "      <td>43.0</td>\n",
              "      <td>5800.0</td>\n",
              "      <td>3154769.0</td>\n",
              "      <td>3.060870e+09</td>\n",
              "      <td>BK31</td>\n",
              "    </tr>\n",
              "  </tbody>\n",
              "</table>\n",
              "</div>"
            ],
            "text/plain": [
              "      CAMIS                              DBA  ...           BBL   NTA\n",
              "0  50086566  F & M CAMPO BELLO II RESTAURANT  ...  3.060870e+09  BK31\n",
              "\n",
              "[1 rows x 26 columns]"
            ]
          },
          "metadata": {
            "tags": []
          },
          "execution_count": 55
        }
      ]
    },
    {
      "cell_type": "code",
      "metadata": {
        "colab": {
          "base_uri": "https://localhost:8080/"
        },
        "id": "-RWuhy7rGHcD",
        "outputId": "49f4435f-07c3-4904-e09d-cf073cdeff7e"
      },
      "source": [
        "baseline.columns"
      ],
      "execution_count": null,
      "outputs": [
        {
          "output_type": "execute_result",
          "data": {
            "text/plain": [
              "Index(['CAMIS', 'DBA', 'BORO', 'BUILDING', 'STREET', 'ZIPCODE', 'PHONE',\n",
              "       'CUISINE DESCRIPTION', 'INSPECTION DATE', 'ACTION', 'VIOLATION CODE',\n",
              "       'VIOLATION DESCRIPTION', 'CRITICAL FLAG', 'SCORE', 'GRADE',\n",
              "       'GRADE DATE', 'RECORD DATE', 'INSPECTION TYPE', 'Latitude', 'Longitude',\n",
              "       'Community Board', 'Council District', 'Census Tract', 'BIN', 'BBL',\n",
              "       'NTA'],\n",
              "      dtype='object')"
            ]
          },
          "metadata": {
            "tags": []
          },
          "execution_count": 58
        }
      ]
    },
    {
      "cell_type": "code",
      "metadata": {
        "id": "v6Gay_zNFtot"
      },
      "source": [
        "req_cols = ['CAMIS', 'DBA', 'BUILDING', 'STREET', 'ZIPCODE', 'Latitude', 'Longitude']"
      ],
      "execution_count": null,
      "outputs": []
    },
    {
      "cell_type": "code",
      "metadata": {
        "colab": {
          "base_uri": "https://localhost:8080/"
        },
        "id": "vzZMjdSFIQ2U",
        "outputId": "0606688c-6a6a-47f1-b179-555a7356360b"
      },
      "source": [
        "baseline_reduced = baseline[req_cols]\n",
        "baseline_reduced.drop_duplicates(inplace=True)"
      ],
      "execution_count": null,
      "outputs": [
        {
          "output_type": "stream",
          "text": [
            "/usr/local/lib/python3.6/dist-packages/ipykernel_launcher.py:2: SettingWithCopyWarning: \n",
            "A value is trying to be set on a copy of a slice from a DataFrame\n",
            "\n",
            "See the caveats in the documentation: https://pandas.pydata.org/pandas-docs/stable/user_guide/indexing.html#returning-a-view-versus-a-copy\n",
            "  \n"
          ],
          "name": "stderr"
        }
      ]
    },
    {
      "cell_type": "code",
      "metadata": {
        "colab": {
          "base_uri": "https://localhost:8080/"
        },
        "id": "hzarwBYZK6PO",
        "outputId": "2d493a37-c11a-4b89-c818-fdd852b29ef8"
      },
      "source": [
        "baseline_reduced.fillna('0', inplace=True)"
      ],
      "execution_count": null,
      "outputs": [
        {
          "output_type": "stream",
          "text": [
            "/usr/local/lib/python3.6/dist-packages/pandas/core/frame.py:4327: SettingWithCopyWarning: \n",
            "A value is trying to be set on a copy of a slice from a DataFrame\n",
            "\n",
            "See the caveats in the documentation: https://pandas.pydata.org/pandas-docs/stable/user_guide/indexing.html#returning-a-view-versus-a-copy\n",
            "  downcast=downcast,\n"
          ],
          "name": "stderr"
        }
      ]
    },
    {
      "cell_type": "code",
      "metadata": {
        "id": "GsmwBFLbEIkt"
      },
      "source": [
        "def get_business_id(data):\n",
        "  df_temp = pd.DataFrame(columns={'CAMIS', 'business_id'})\n",
        "  yelp_api = YelpAPI('UK5xwczHhivsFYK7t-pIBqID4nMjoNpEL4AzB1s9pPkKMNd-T4RTy0xwjKcxVayWF0cU6zd3jjF3hNVyq-3Vpg4sy99loV9I_8dcuywnxjbnqbAHqxvQeohwTpCsX3Yx')\n",
        "  i = 0\n",
        "  t = time.time()\n",
        "  for row in data.itertuples():\n",
        "    # print(row)\n",
        "    try:\n",
        "      res = yelp_api.business_match_query(name= row.DBA, \n",
        "                                          state='NY', \n",
        "                                          city='New York', \n",
        "                                          address1= str(str(row.BUILDING) + ' ' + str(row.STREET)), \n",
        "                                          country='US', \n",
        "                                          latitude= float(row.Latitude), \n",
        "                                          longitude= float(row.Longitude), \n",
        "                                          match_threshold='none')['businesses']\n",
        "    except:\n",
        "      print(row.CAMIS)\n",
        "      pass\n",
        "    if res:\n",
        "      id = res[0]['id']\n",
        "    else:\n",
        "      id = '#'\n",
        "\n",
        "    data = {'CAMIS': row.CAMIS,\n",
        "            'business_id': id\n",
        "    }\n",
        "    # print(i, data)\n",
        "    if i % 100 == 0:\n",
        "      print(i, t - time.time())\n",
        "    i += 1\n",
        "    df_temp = df_temp.append(data, ignore_index=True)\n",
        "  return df_temp\n"
      ],
      "execution_count": null,
      "outputs": []
    },
    {
      "cell_type": "code",
      "metadata": {
        "colab": {
          "base_uri": "https://localhost:8080/"
        },
        "id": "ojRVKZdZExOK",
        "outputId": "13d7362e-1091-48e0-d3cc-cd1ddae1580a"
      },
      "source": [
        "camis_id_mapping = get_business_id(data = baseline_reduced)"
      ],
      "execution_count": null,
      "outputs": [
        {
          "output_type": "stream",
          "text": [
            "0 -0.5981333255767822\n",
            "50038524\n",
            "50056622\n",
            "50016817\n",
            "50079781\n",
            "40685819\n",
            "50036900\n",
            "41686200\n",
            "1000 -588.408833026886\n",
            "50054234\n"
          ],
          "name": "stdout"
        }
      ]
    },
    {
      "cell_type": "code",
      "metadata": {
        "id": "VxYhhb2TKlUT"
      },
      "source": [
        "yelp_api = YelpAPI('UK5xwczHhivsFYK7t-pIBqID4nMjoNpEL4AzB1s9pPkKMNd-T4RTy0xwjKcxVayWF0cU6zd3jjF3hNVyq-3Vpg4sy99loV9I_8dcuywnxjbnqbAHqxvQeohwTpCsX3Yx')\n",
        "res = yelp_api.business_match_query(name= 't', \n",
        "                                          state='NY', \n",
        "                                          city='New York', \n",
        "                                          address1= '9128\t5 AVENUE', \n",
        "                                          country='US', \n",
        "                                          latitude= 0, \n",
        "                                          longitude= 0, \n",
        "                                          match_threshold='none')['businesses']"
      ],
      "execution_count": null,
      "outputs": []
    },
    {
      "cell_type": "code",
      "metadata": {
        "colab": {
          "base_uri": "https://localhost:8080/",
          "height": 35
        },
        "id": "SNoXfchyLtDl",
        "outputId": "3b074c20-0b33-49dc-976f-fee231cdcae5"
      },
      "source": [
        "res[0]['id']"
      ],
      "execution_count": null,
      "outputs": [
        {
          "output_type": "execute_result",
          "data": {
            "application/vnd.google.colaboratory.intrinsic+json": {
              "type": "string"
            },
            "text/plain": [
              "'tBPbg9RuXPOPbdxyGitZbw'"
            ]
          },
          "metadata": {
            "tags": []
          },
          "execution_count": 101
        }
      ]
    },
    {
      "cell_type": "code",
      "metadata": {
        "colab": {
          "base_uri": "https://localhost:8080/",
          "height": 375
        },
        "id": "SGba19lHEsj1",
        "outputId": "2c2499d4-2508-47cc-8147-135a417dd898"
      },
      "source": [
        "df_violations = pd.read_csv('baseline.csv')"
      ],
      "execution_count": null,
      "outputs": [
        {
          "output_type": "error",
          "ename": "FileNotFoundError",
          "evalue": "ignored",
          "traceback": [
            "\u001b[0;31m---------------------------------------------------------------------------\u001b[0m",
            "\u001b[0;31mFileNotFoundError\u001b[0m                         Traceback (most recent call last)",
            "\u001b[0;32m<ipython-input-46-f3a8859b70f3>\u001b[0m in \u001b[0;36m<module>\u001b[0;34m()\u001b[0m\n\u001b[0;32m----> 1\u001b[0;31m \u001b[0mdf_violations\u001b[0m \u001b[0;34m=\u001b[0m \u001b[0mpd\u001b[0m\u001b[0;34m.\u001b[0m\u001b[0mread_csv\u001b[0m\u001b[0;34m(\u001b[0m\u001b[0;34m'baseline.csv'\u001b[0m\u001b[0;34m)\u001b[0m\u001b[0;34m\u001b[0m\u001b[0;34m\u001b[0m\u001b[0m\n\u001b[0m",
            "\u001b[0;32m/usr/local/lib/python3.6/dist-packages/pandas/io/parsers.py\u001b[0m in \u001b[0;36mread_csv\u001b[0;34m(filepath_or_buffer, sep, delimiter, header, names, index_col, usecols, squeeze, prefix, mangle_dupe_cols, dtype, engine, converters, true_values, false_values, skipinitialspace, skiprows, skipfooter, nrows, na_values, keep_default_na, na_filter, verbose, skip_blank_lines, parse_dates, infer_datetime_format, keep_date_col, date_parser, dayfirst, cache_dates, iterator, chunksize, compression, thousands, decimal, lineterminator, quotechar, quoting, doublequote, escapechar, comment, encoding, dialect, error_bad_lines, warn_bad_lines, delim_whitespace, low_memory, memory_map, float_precision)\u001b[0m\n\u001b[1;32m    686\u001b[0m     )\n\u001b[1;32m    687\u001b[0m \u001b[0;34m\u001b[0m\u001b[0m\n\u001b[0;32m--> 688\u001b[0;31m     \u001b[0;32mreturn\u001b[0m \u001b[0m_read\u001b[0m\u001b[0;34m(\u001b[0m\u001b[0mfilepath_or_buffer\u001b[0m\u001b[0;34m,\u001b[0m \u001b[0mkwds\u001b[0m\u001b[0;34m)\u001b[0m\u001b[0;34m\u001b[0m\u001b[0;34m\u001b[0m\u001b[0m\n\u001b[0m\u001b[1;32m    689\u001b[0m \u001b[0;34m\u001b[0m\u001b[0m\n\u001b[1;32m    690\u001b[0m \u001b[0;34m\u001b[0m\u001b[0m\n",
            "\u001b[0;32m/usr/local/lib/python3.6/dist-packages/pandas/io/parsers.py\u001b[0m in \u001b[0;36m_read\u001b[0;34m(filepath_or_buffer, kwds)\u001b[0m\n\u001b[1;32m    452\u001b[0m \u001b[0;34m\u001b[0m\u001b[0m\n\u001b[1;32m    453\u001b[0m     \u001b[0;31m# Create the parser.\u001b[0m\u001b[0;34m\u001b[0m\u001b[0;34m\u001b[0m\u001b[0;34m\u001b[0m\u001b[0m\n\u001b[0;32m--> 454\u001b[0;31m     \u001b[0mparser\u001b[0m \u001b[0;34m=\u001b[0m \u001b[0mTextFileReader\u001b[0m\u001b[0;34m(\u001b[0m\u001b[0mfp_or_buf\u001b[0m\u001b[0;34m,\u001b[0m \u001b[0;34m**\u001b[0m\u001b[0mkwds\u001b[0m\u001b[0;34m)\u001b[0m\u001b[0;34m\u001b[0m\u001b[0;34m\u001b[0m\u001b[0m\n\u001b[0m\u001b[1;32m    455\u001b[0m \u001b[0;34m\u001b[0m\u001b[0m\n\u001b[1;32m    456\u001b[0m     \u001b[0;32mif\u001b[0m \u001b[0mchunksize\u001b[0m \u001b[0;32mor\u001b[0m \u001b[0miterator\u001b[0m\u001b[0;34m:\u001b[0m\u001b[0;34m\u001b[0m\u001b[0;34m\u001b[0m\u001b[0m\n",
            "\u001b[0;32m/usr/local/lib/python3.6/dist-packages/pandas/io/parsers.py\u001b[0m in \u001b[0;36m__init__\u001b[0;34m(self, f, engine, **kwds)\u001b[0m\n\u001b[1;32m    946\u001b[0m             \u001b[0mself\u001b[0m\u001b[0;34m.\u001b[0m\u001b[0moptions\u001b[0m\u001b[0;34m[\u001b[0m\u001b[0;34m\"has_index_names\"\u001b[0m\u001b[0;34m]\u001b[0m \u001b[0;34m=\u001b[0m \u001b[0mkwds\u001b[0m\u001b[0;34m[\u001b[0m\u001b[0;34m\"has_index_names\"\u001b[0m\u001b[0;34m]\u001b[0m\u001b[0;34m\u001b[0m\u001b[0;34m\u001b[0m\u001b[0m\n\u001b[1;32m    947\u001b[0m \u001b[0;34m\u001b[0m\u001b[0m\n\u001b[0;32m--> 948\u001b[0;31m         \u001b[0mself\u001b[0m\u001b[0;34m.\u001b[0m\u001b[0m_make_engine\u001b[0m\u001b[0;34m(\u001b[0m\u001b[0mself\u001b[0m\u001b[0;34m.\u001b[0m\u001b[0mengine\u001b[0m\u001b[0;34m)\u001b[0m\u001b[0;34m\u001b[0m\u001b[0;34m\u001b[0m\u001b[0m\n\u001b[0m\u001b[1;32m    949\u001b[0m \u001b[0;34m\u001b[0m\u001b[0m\n\u001b[1;32m    950\u001b[0m     \u001b[0;32mdef\u001b[0m \u001b[0mclose\u001b[0m\u001b[0;34m(\u001b[0m\u001b[0mself\u001b[0m\u001b[0;34m)\u001b[0m\u001b[0;34m:\u001b[0m\u001b[0;34m\u001b[0m\u001b[0;34m\u001b[0m\u001b[0m\n",
            "\u001b[0;32m/usr/local/lib/python3.6/dist-packages/pandas/io/parsers.py\u001b[0m in \u001b[0;36m_make_engine\u001b[0;34m(self, engine)\u001b[0m\n\u001b[1;32m   1178\u001b[0m     \u001b[0;32mdef\u001b[0m \u001b[0m_make_engine\u001b[0m\u001b[0;34m(\u001b[0m\u001b[0mself\u001b[0m\u001b[0;34m,\u001b[0m \u001b[0mengine\u001b[0m\u001b[0;34m=\u001b[0m\u001b[0;34m\"c\"\u001b[0m\u001b[0;34m)\u001b[0m\u001b[0;34m:\u001b[0m\u001b[0;34m\u001b[0m\u001b[0;34m\u001b[0m\u001b[0m\n\u001b[1;32m   1179\u001b[0m         \u001b[0;32mif\u001b[0m \u001b[0mengine\u001b[0m \u001b[0;34m==\u001b[0m \u001b[0;34m\"c\"\u001b[0m\u001b[0;34m:\u001b[0m\u001b[0;34m\u001b[0m\u001b[0;34m\u001b[0m\u001b[0m\n\u001b[0;32m-> 1180\u001b[0;31m             \u001b[0mself\u001b[0m\u001b[0;34m.\u001b[0m\u001b[0m_engine\u001b[0m \u001b[0;34m=\u001b[0m \u001b[0mCParserWrapper\u001b[0m\u001b[0;34m(\u001b[0m\u001b[0mself\u001b[0m\u001b[0;34m.\u001b[0m\u001b[0mf\u001b[0m\u001b[0;34m,\u001b[0m \u001b[0;34m**\u001b[0m\u001b[0mself\u001b[0m\u001b[0;34m.\u001b[0m\u001b[0moptions\u001b[0m\u001b[0;34m)\u001b[0m\u001b[0;34m\u001b[0m\u001b[0;34m\u001b[0m\u001b[0m\n\u001b[0m\u001b[1;32m   1181\u001b[0m         \u001b[0;32melse\u001b[0m\u001b[0;34m:\u001b[0m\u001b[0;34m\u001b[0m\u001b[0;34m\u001b[0m\u001b[0m\n\u001b[1;32m   1182\u001b[0m             \u001b[0;32mif\u001b[0m \u001b[0mengine\u001b[0m \u001b[0;34m==\u001b[0m \u001b[0;34m\"python\"\u001b[0m\u001b[0;34m:\u001b[0m\u001b[0;34m\u001b[0m\u001b[0;34m\u001b[0m\u001b[0m\n",
            "\u001b[0;32m/usr/local/lib/python3.6/dist-packages/pandas/io/parsers.py\u001b[0m in \u001b[0;36m__init__\u001b[0;34m(self, src, **kwds)\u001b[0m\n\u001b[1;32m   2008\u001b[0m         \u001b[0mkwds\u001b[0m\u001b[0;34m[\u001b[0m\u001b[0;34m\"usecols\"\u001b[0m\u001b[0;34m]\u001b[0m \u001b[0;34m=\u001b[0m \u001b[0mself\u001b[0m\u001b[0;34m.\u001b[0m\u001b[0musecols\u001b[0m\u001b[0;34m\u001b[0m\u001b[0;34m\u001b[0m\u001b[0m\n\u001b[1;32m   2009\u001b[0m \u001b[0;34m\u001b[0m\u001b[0m\n\u001b[0;32m-> 2010\u001b[0;31m         \u001b[0mself\u001b[0m\u001b[0;34m.\u001b[0m\u001b[0m_reader\u001b[0m \u001b[0;34m=\u001b[0m \u001b[0mparsers\u001b[0m\u001b[0;34m.\u001b[0m\u001b[0mTextReader\u001b[0m\u001b[0;34m(\u001b[0m\u001b[0msrc\u001b[0m\u001b[0;34m,\u001b[0m \u001b[0;34m**\u001b[0m\u001b[0mkwds\u001b[0m\u001b[0;34m)\u001b[0m\u001b[0;34m\u001b[0m\u001b[0;34m\u001b[0m\u001b[0m\n\u001b[0m\u001b[1;32m   2011\u001b[0m         \u001b[0mself\u001b[0m\u001b[0;34m.\u001b[0m\u001b[0munnamed_cols\u001b[0m \u001b[0;34m=\u001b[0m \u001b[0mself\u001b[0m\u001b[0;34m.\u001b[0m\u001b[0m_reader\u001b[0m\u001b[0;34m.\u001b[0m\u001b[0munnamed_cols\u001b[0m\u001b[0;34m\u001b[0m\u001b[0;34m\u001b[0m\u001b[0m\n\u001b[1;32m   2012\u001b[0m \u001b[0;34m\u001b[0m\u001b[0m\n",
            "\u001b[0;32mpandas/_libs/parsers.pyx\u001b[0m in \u001b[0;36mpandas._libs.parsers.TextReader.__cinit__\u001b[0;34m()\u001b[0m\n",
            "\u001b[0;32mpandas/_libs/parsers.pyx\u001b[0m in \u001b[0;36mpandas._libs.parsers.TextReader._setup_parser_source\u001b[0;34m()\u001b[0m\n",
            "\u001b[0;31mFileNotFoundError\u001b[0m: [Errno 2] No such file or directory: 'baseline.csv'"
          ]
        }
      ]
    },
    {
      "cell_type": "code",
      "metadata": {
        "id": "HipIJkux8xzh"
      },
      "source": [
        "mapping = pd.read_csv('mapping.csv')"
      ],
      "execution_count": null,
      "outputs": []
    },
    {
      "cell_type": "code",
      "metadata": {
        "colab": {
          "base_uri": "https://localhost:8080/",
          "height": 80
        },
        "id": "y0KjOkcN84ym",
        "outputId": "81f939d5-cf0c-4a83-b8de-c7f20e71314c"
      },
      "source": [
        "mapping.head(1)"
      ],
      "execution_count": null,
      "outputs": [
        {
          "output_type": "execute_result",
          "data": {
            "text/html": [
              "<div>\n",
              "<style scoped>\n",
              "    .dataframe tbody tr th:only-of-type {\n",
              "        vertical-align: middle;\n",
              "    }\n",
              "\n",
              "    .dataframe tbody tr th {\n",
              "        vertical-align: top;\n",
              "    }\n",
              "\n",
              "    .dataframe thead th {\n",
              "        text-align: right;\n",
              "    }\n",
              "</style>\n",
              "<table border=\"1\" class=\"dataframe\">\n",
              "  <thead>\n",
              "    <tr style=\"text-align: right;\">\n",
              "      <th></th>\n",
              "      <th>Unnamed: 0</th>\n",
              "      <th>CAMIS</th>\n",
              "      <th>business_id</th>\n",
              "    </tr>\n",
              "  </thead>\n",
              "  <tbody>\n",
              "    <tr>\n",
              "      <th>0</th>\n",
              "      <td>0</td>\n",
              "      <td>50086566</td>\n",
              "      <td>tBPbg9RuXPOPbdxyGitZbw</td>\n",
              "    </tr>\n",
              "  </tbody>\n",
              "</table>\n",
              "</div>"
            ],
            "text/plain": [
              "   Unnamed: 0     CAMIS             business_id\n",
              "0           0  50086566  tBPbg9RuXPOPbdxyGitZbw"
            ]
          },
          "metadata": {
            "tags": []
          },
          "execution_count": 8
        }
      ]
    },
    {
      "cell_type": "code",
      "metadata": {
        "colab": {
          "base_uri": "https://localhost:8080/",
          "height": 204
        },
        "id": "xf7XNInSa_sy",
        "outputId": "b9028564-f3e9-4abd-a2c4-9effeb2fce50"
      },
      "source": [
        "df = pd.read_csv('scraped.csv')\n",
        "df.head()"
      ],
      "execution_count": null,
      "outputs": [
        {
          "output_type": "execute_result",
          "data": {
            "text/html": [
              "<div>\n",
              "<style scoped>\n",
              "    .dataframe tbody tr th:only-of-type {\n",
              "        vertical-align: middle;\n",
              "    }\n",
              "\n",
              "    .dataframe tbody tr th {\n",
              "        vertical-align: top;\n",
              "    }\n",
              "\n",
              "    .dataframe thead th {\n",
              "        text-align: right;\n",
              "    }\n",
              "</style>\n",
              "<table border=\"1\" class=\"dataframe\">\n",
              "  <thead>\n",
              "    <tr style=\"text-align: right;\">\n",
              "      <th></th>\n",
              "      <th>business_id</th>\n",
              "      <th>rating</th>\n",
              "      <th>review</th>\n",
              "      <th>date</th>\n",
              "    </tr>\n",
              "  </thead>\n",
              "  <tbody>\n",
              "    <tr>\n",
              "      <th>0</th>\n",
              "      <td>tBPbg9RuXPOPbdxyGitZbw</td>\n",
              "      <td>5</td>\n",
              "      <td>Food is always very good. Perfect place to pic...</td>\n",
              "      <td>11/1/2020</td>\n",
              "    </tr>\n",
              "    <tr>\n",
              "      <th>1</th>\n",
              "      <td>tBPbg9RuXPOPbdxyGitZbw</td>\n",
              "      <td>1</td>\n",
              "      <td>Disgusting food taste horrible and the women a...</td>\n",
              "      <td>10/30/2020</td>\n",
              "    </tr>\n",
              "    <tr>\n",
              "      <th>2</th>\n",
              "      <td>tBPbg9RuXPOPbdxyGitZbw</td>\n",
              "      <td>3</td>\n",
              "      <td>This is a buffet type style spot, meaning the ...</td>\n",
              "      <td>9/23/2020</td>\n",
              "    </tr>\n",
              "    <tr>\n",
              "      <th>3</th>\n",
              "      <td>tBPbg9RuXPOPbdxyGitZbw</td>\n",
              "      <td>1</td>\n",
              "      <td>The guy with the hat, sold me burnt plantains!...</td>\n",
              "      <td>5/31/2020</td>\n",
              "    </tr>\n",
              "    <tr>\n",
              "      <th>4</th>\n",
              "      <td>tBPbg9RuXPOPbdxyGitZbw</td>\n",
              "      <td>4</td>\n",
              "      <td>Very solid Dominican food, especially for Bay ...</td>\n",
              "      <td>5/17/2020</td>\n",
              "    </tr>\n",
              "  </tbody>\n",
              "</table>\n",
              "</div>"
            ],
            "text/plain": [
              "              business_id  ...        date\n",
              "0  tBPbg9RuXPOPbdxyGitZbw  ...   11/1/2020\n",
              "1  tBPbg9RuXPOPbdxyGitZbw  ...  10/30/2020\n",
              "2  tBPbg9RuXPOPbdxyGitZbw  ...   9/23/2020\n",
              "3  tBPbg9RuXPOPbdxyGitZbw  ...   5/31/2020\n",
              "4  tBPbg9RuXPOPbdxyGitZbw  ...   5/17/2020\n",
              "\n",
              "[5 rows x 4 columns]"
            ]
          },
          "metadata": {
            "tags": []
          },
          "execution_count": 22
        }
      ]
    },
    {
      "cell_type": "code",
      "metadata": {
        "colab": {
          "base_uri": "https://localhost:8080/",
          "height": 204
        },
        "id": "cwuuVveFdzYN",
        "outputId": "0588216c-7301-4092-84a2-4dcc4ddc477f"
      },
      "source": [
        "# df.drop(columns= ['Unnamed: 0'], inplace=True)\n",
        "# df.head()"
      ],
      "execution_count": null,
      "outputs": [
        {
          "output_type": "execute_result",
          "data": {
            "text/html": [
              "<div>\n",
              "<style scoped>\n",
              "    .dataframe tbody tr th:only-of-type {\n",
              "        vertical-align: middle;\n",
              "    }\n",
              "\n",
              "    .dataframe tbody tr th {\n",
              "        vertical-align: top;\n",
              "    }\n",
              "\n",
              "    .dataframe thead th {\n",
              "        text-align: right;\n",
              "    }\n",
              "</style>\n",
              "<table border=\"1\" class=\"dataframe\">\n",
              "  <thead>\n",
              "    <tr style=\"text-align: right;\">\n",
              "      <th></th>\n",
              "      <th>business_id</th>\n",
              "      <th>rating</th>\n",
              "      <th>review</th>\n",
              "      <th>date</th>\n",
              "    </tr>\n",
              "  </thead>\n",
              "  <tbody>\n",
              "    <tr>\n",
              "      <th>0</th>\n",
              "      <td>tBPbg9RuXPOPbdxyGitZbw</td>\n",
              "      <td>5</td>\n",
              "      <td>Food is always very good. Perfect place to pic...</td>\n",
              "      <td>11/1/2020</td>\n",
              "    </tr>\n",
              "    <tr>\n",
              "      <th>1</th>\n",
              "      <td>tBPbg9RuXPOPbdxyGitZbw</td>\n",
              "      <td>1</td>\n",
              "      <td>Disgusting food taste horrible and the women a...</td>\n",
              "      <td>10/30/2020</td>\n",
              "    </tr>\n",
              "    <tr>\n",
              "      <th>2</th>\n",
              "      <td>tBPbg9RuXPOPbdxyGitZbw</td>\n",
              "      <td>3</td>\n",
              "      <td>This is a buffet type style spot, meaning the ...</td>\n",
              "      <td>9/23/2020</td>\n",
              "    </tr>\n",
              "    <tr>\n",
              "      <th>3</th>\n",
              "      <td>tBPbg9RuXPOPbdxyGitZbw</td>\n",
              "      <td>1</td>\n",
              "      <td>The guy with the hat, sold me burnt plantains!...</td>\n",
              "      <td>5/31/2020</td>\n",
              "    </tr>\n",
              "    <tr>\n",
              "      <th>4</th>\n",
              "      <td>tBPbg9RuXPOPbdxyGitZbw</td>\n",
              "      <td>4</td>\n",
              "      <td>Very solid Dominican food, especially for Bay ...</td>\n",
              "      <td>5/17/2020</td>\n",
              "    </tr>\n",
              "  </tbody>\n",
              "</table>\n",
              "</div>"
            ],
            "text/plain": [
              "              business_id  ...        date\n",
              "0  tBPbg9RuXPOPbdxyGitZbw  ...   11/1/2020\n",
              "1  tBPbg9RuXPOPbdxyGitZbw  ...  10/30/2020\n",
              "2  tBPbg9RuXPOPbdxyGitZbw  ...   9/23/2020\n",
              "3  tBPbg9RuXPOPbdxyGitZbw  ...   5/31/2020\n",
              "4  tBPbg9RuXPOPbdxyGitZbw  ...   5/17/2020\n",
              "\n",
              "[5 rows x 4 columns]"
            ]
          },
          "metadata": {
            "tags": []
          },
          "execution_count": 19
        }
      ]
    },
    {
      "cell_type": "code",
      "metadata": {
        "colab": {
          "base_uri": "https://localhost:8080/",
          "height": 1000
        },
        "id": "9ds2_flr86JC",
        "outputId": "d31a6f9f-7cce-4c23-cc39-67dd97721486"
      },
      "source": [
        "# df = pd.DataFrame(columns={'date', 'review', 'rating', 'business_id'})\n",
        "df = pd.read_csv('scraped.csv')\n",
        "# if not df:\n",
        "#     df = pd.DataFrame(columns={'date', 'review', 'rating', 'business_id'})\n",
        "ids_scraped = df['business_id'].unique()\n",
        "id = 'bl3-rGjqjaJa_nkW4aMlIg'\n",
        "name = 'starbucks'\n",
        "err = []\n",
        "for row in mapping.itertuples():\n",
        "    i = 0\n",
        "    print(row)\n",
        "    if row.business_id in ids_scraped:\n",
        "        print('Already scraped')\n",
        "        continue\n",
        "    while True:\n",
        "        # get webpage\n",
        "        # url = 'https://www.yelp.com/biz/bl3-rGjqjaJa_nkW4aMlIg&start={}&sort_by=date_desc'.format(i)\n",
        "        url = get_redirect(row.business_id, verbose = False)\n",
        "        query = '?start={}&sort_by=date_desc'.format(i)\n",
        "\n",
        "        url += query\n",
        "        # print(url)\n",
        "        flag = False\n",
        "        try:\n",
        "            ourUrl = urllib.request.urlopen(url)\n",
        "        except:\n",
        "            flag = True\n",
        "            err.append(row.business_id)\n",
        "            pass\n",
        "        if flag:\n",
        "            break\n",
        "        soup = BeautifulSoup(ourUrl,'html.parser')\n",
        "        rows = soup.find_all('div',{'class': 'main-content-wrap main-content-wrap--full'})\n",
        "        # print(rows[0].text[6:-4])\n",
        "        rows = json.loads(rows[0].text[6:-4])\n",
        "\n",
        "        #Increment the page number specifier\n",
        "        i += 20\n",
        "\n",
        "        #Break if no rows found\n",
        "        if not rows['bizDetailsPageProps']['reviewFeedQueryProps']['reviews']:\n",
        "            break\n",
        "        df_temp = pd.json_normalize(rows['bizDetailsPageProps']['reviewFeedQueryProps']['reviews'])\n",
        "\n",
        "        required_columns = ['localizedDate', 'comment.text', 'rating']\n",
        "        col_names = ['date', 'review', 'rating']\n",
        "\n",
        "        df_req = df_temp[required_columns]\n",
        "        df_req.columns = col_names\n",
        "        \n",
        "        df_req['business_id'] = row.business_id\n",
        "\n",
        "        df = df.append(df_req, ignore_index=True)\n",
        "        time.sleep(8)\n",
        "    print(df.shape)"
      ],
      "execution_count": null,
      "outputs": [
        {
          "output_type": "stream",
          "text": [
            "Pandas(Index=0, _1=0, CAMIS=50086566, business_id='tBPbg9RuXPOPbdxyGitZbw')\n",
            "Already scraped\n",
            "Pandas(Index=1, _1=1, CAMIS=50097893, business_id='43viL4nGzaYU3IvYZpp6BQ')\n",
            "Already scraped\n",
            "Pandas(Index=2, _1=2, CAMIS=50018578, business_id='1KGvtMU7VBcdlvxo2brdQg')\n",
            "Already scraped\n",
            "Pandas(Index=3, _1=3, CAMIS=50015174, business_id='ZIjGYwImNzMwQOkMg7XGHA')\n",
            "Already scraped\n",
            "Pandas(Index=4, _1=4, CAMIS=50074043, business_id='FR_E9_Z3WG5HjeIUyTKSWw')\n",
            "Already scraped\n",
            "Pandas(Index=5, _1=5, CAMIS=41429861, business_id='4cP9IJekfdFmx8vpMVoY9Q')\n",
            "Already scraped\n",
            "Pandas(Index=6, _1=6, CAMIS=50042128, business_id='zEHzdRjEa23tcH585_SqHw')\n",
            "Already scraped\n",
            "Pandas(Index=7, _1=7, CAMIS=41110540, business_id='RgoCXonPjr78JUryZ9KkAQ')\n",
            "Already scraped\n",
            "Pandas(Index=8, _1=8, CAMIS=50084763, business_id='SU0_Hd_ET94_maeuIB0_vg')\n",
            "Already scraped\n",
            "Pandas(Index=9, _1=9, CAMIS=50012215, business_id='lGLeaVcg7U4tOfJFhVqGng')\n",
            "Already scraped\n",
            "Pandas(Index=10, _1=10, CAMIS=50061293, business_id='-_LtKO0FdpINUMAWMfDOOQ')\n",
            "Already scraped\n",
            "Pandas(Index=11, _1=11, CAMIS=50095892, business_id='HphTsLUiXKihXOzw-llioQ')\n",
            "Already scraped\n",
            "Pandas(Index=12, _1=12, CAMIS=41489737, business_id='W8-g8yoLUuLq_US8NqnDhQ')\n",
            "Already scraped\n",
            "Pandas(Index=13, _1=13, CAMIS=41641875, business_id='EvocrromQGCIFR4DscDp-A')\n",
            "Already scraped\n",
            "Pandas(Index=14, _1=14, CAMIS=50058336, business_id='qEzdUd5NbtqF9uuko1MmTg')\n",
            "Already scraped\n",
            "Pandas(Index=15, _1=15, CAMIS=50073031, business_id='XaEFFUabnbH8ZF7ccmSAlQ')\n",
            "Already scraped\n",
            "Pandas(Index=16, _1=16, CAMIS=41561225, business_id='_Zx-LNOhAT7_wJ0DeQ7WQA')\n",
            "Already scraped\n",
            "Pandas(Index=17, _1=17, CAMIS=41607908, business_id='2txI-FAVf7q0SHNPcnjm7Q')\n",
            "Already scraped\n",
            "Pandas(Index=18, _1=18, CAMIS=41217083, business_id='PW3ty0qUsqcLHKfFlhY-7A')\n",
            "Already scraped\n",
            "Pandas(Index=19, _1=19, CAMIS=50038524, business_id='jE5_yPypanQLdYe7-f__dA')\n",
            "Already scraped\n",
            "Pandas(Index=20, _1=20, CAMIS=40366929, business_id='QjAmvw4HL-FC1iLTB4oYCw')\n",
            "Already scraped\n",
            "Pandas(Index=21, _1=21, CAMIS=50000150, business_id='WrueoR5FjsTweIzCPFaykQ')\n",
            "Already scraped\n",
            "Pandas(Index=22, _1=22, CAMIS=50005981, business_id='5gMwQ6Ld-hnmvfw2miT-Vw')\n",
            "Already scraped\n",
            "Pandas(Index=23, _1=23, CAMIS=50061153, business_id='MVZvci-lMZQI2VY3ckG6Dw')\n",
            "Already scraped\n",
            "Pandas(Index=24, _1=24, CAMIS=40980389, business_id='ZCfqAtpASbibf_YaU1rIpw')\n",
            "Already scraped\n",
            "Pandas(Index=25, _1=25, CAMIS=50059199, business_id='IFQ1CXX3QTiuOjeXYvtWLw')\n",
            "Already scraped\n",
            "Pandas(Index=26, _1=26, CAMIS=40931583, business_id='109GtGdJjPDLbGgnnld3Kw')\n",
            "Already scraped\n",
            "Pandas(Index=27, _1=27, CAMIS=50056622, business_id='Uw_JmosKY2dunvRNoRo33w')\n",
            "Already scraped\n",
            "Pandas(Index=28, _1=28, CAMIS=50055844, business_id='tvpkgdOyFFRGwwu8zyR36g')\n",
            "Already scraped\n",
            "Pandas(Index=29, _1=29, CAMIS=41675471, business_id='A1yUzCKkfDl5N4QiHV23WQ')\n",
            "Already scraped\n",
            "Pandas(Index=30, _1=30, CAMIS=40389701, business_id='02sUerL13Wt4Ii2-kDzlow')\n",
            "Already scraped\n",
            "Pandas(Index=31, _1=31, CAMIS=41578677, business_id='5z7OuOWuZRu6byp2XDKbQw')\n",
            "Already scraped\n",
            "Pandas(Index=32, _1=32, CAMIS=41647764, business_id='rCwUcNbbeVS0brn41GAP0g')\n",
            "Already scraped\n",
            "Pandas(Index=33, _1=33, CAMIS=50093898, business_id='ffavAznpBm6Qr9XCnZKZ3Q')\n",
            "Already scraped\n",
            "Pandas(Index=34, _1=34, CAMIS=41309387, business_id='paogBWxBRdyByOGAkln8Lw')\n",
            "Already scraped\n",
            "Pandas(Index=35, _1=35, CAMIS=50037802, business_id='DgpnbYHVKWVuy_MC_5iiJA')\n",
            "Already scraped\n",
            "Pandas(Index=36, _1=36, CAMIS=50016817, business_id='xmkruwLQqlg_OP4tJvCabA')\n",
            "Already scraped\n",
            "Pandas(Index=37, _1=37, CAMIS=40389881, business_id='o0fASE2gYWTYDECrXbnMNw')\n",
            "Already scraped\n",
            "Pandas(Index=38, _1=38, CAMIS=50079558, business_id='gqRz_bH8oy-TOTlQPHg6uw')\n",
            "Already scraped\n",
            "Pandas(Index=39, _1=39, CAMIS=50056921, business_id='OsrD_tlNxT6tmM_BwKQRFg')\n",
            "Already scraped\n",
            "Pandas(Index=40, _1=40, CAMIS=50058745, business_id='dKXq_7HzPjnLzZi68bBmgw')\n",
            "Already scraped\n",
            "Pandas(Index=41, _1=41, CAMIS=50056993, business_id='3bTbddYb6VFUktBekbxQGA')\n",
            "Already scraped\n",
            "Pandas(Index=42, _1=42, CAMIS=50032834, business_id='RIzUipXXTHhBnQYlLTLEtQ')\n"
          ],
          "name": "stdout"
        },
        {
          "output_type": "stream",
          "text": [
            "/usr/local/lib/python3.6/dist-packages/ipykernel_launcher.py:51: SettingWithCopyWarning: \n",
            "A value is trying to be set on a copy of a slice from a DataFrame.\n",
            "Try using .loc[row_indexer,col_indexer] = value instead\n",
            "\n",
            "See the caveats in the documentation: https://pandas.pydata.org/pandas-docs/stable/user_guide/indexing.html#returning-a-view-versus-a-copy\n"
          ],
          "name": "stderr"
        },
        {
          "output_type": "stream",
          "text": [
            "(4939, 4)\n",
            "Pandas(Index=43, _1=43, CAMIS=50059003, business_id='6evDC62OwL1SewmR6ui6lw')\n",
            "(4996, 4)\n",
            "Pandas(Index=44, _1=44, CAMIS=41579300, business_id='aidZpXrufp3t-cV1tMTzOQ')\n",
            "(5173, 4)\n",
            "Pandas(Index=45, _1=45, CAMIS=41154571, business_id='YCYGtlQ1WmWcpDYYSJKeNQ')\n",
            "(5181, 4)\n",
            "Pandas(Index=46, _1=46, CAMIS=50061521, business_id='UB1mGugr1pvgUUP1eTNXrg')\n",
            "(5181, 4)\n",
            "Pandas(Index=47, _1=47, CAMIS=50060763, business_id='#')\n",
            "(5181, 4)\n",
            "Pandas(Index=48, _1=48, CAMIS=50057988, business_id='CesS-E8Q3ztX6VnkXO6wBg')\n",
            "(5457, 4)\n",
            "Pandas(Index=49, _1=49, CAMIS=41099763, business_id='kCk2uqmmJBQ80iLuncNhlQ')\n",
            "(5538, 4)\n",
            "Pandas(Index=50, _1=50, CAMIS=50007736, business_id='1qOS6TKzsaiVVeMVbl6sCA')\n",
            "(6041, 4)\n",
            "Pandas(Index=51, _1=51, CAMIS=41690737, business_id='1ZstLMeTotRyA8xo8Xa77w')\n"
          ],
          "name": "stdout"
        },
        {
          "output_type": "error",
          "ename": "ConnectionResetError",
          "evalue": "ignored",
          "traceback": [
            "\u001b[0;31m---------------------------------------------------------------------------\u001b[0m",
            "\u001b[0;31mConnectionResetError\u001b[0m                      Traceback (most recent call last)",
            "\u001b[0;32m<ipython-input-23-7739b05784f9>\u001b[0m in \u001b[0;36m<module>\u001b[0;34m()\u001b[0m\n\u001b[1;32m     30\u001b[0m         \u001b[0;32mif\u001b[0m \u001b[0mflag\u001b[0m\u001b[0;34m:\u001b[0m\u001b[0;34m\u001b[0m\u001b[0;34m\u001b[0m\u001b[0m\n\u001b[1;32m     31\u001b[0m             \u001b[0;32mbreak\u001b[0m\u001b[0;34m\u001b[0m\u001b[0;34m\u001b[0m\u001b[0m\n\u001b[0;32m---> 32\u001b[0;31m         \u001b[0msoup\u001b[0m \u001b[0;34m=\u001b[0m \u001b[0mBeautifulSoup\u001b[0m\u001b[0;34m(\u001b[0m\u001b[0mourUrl\u001b[0m\u001b[0;34m,\u001b[0m\u001b[0;34m'html.parser'\u001b[0m\u001b[0;34m)\u001b[0m\u001b[0;34m\u001b[0m\u001b[0;34m\u001b[0m\u001b[0m\n\u001b[0m\u001b[1;32m     33\u001b[0m         \u001b[0mrows\u001b[0m \u001b[0;34m=\u001b[0m \u001b[0msoup\u001b[0m\u001b[0;34m.\u001b[0m\u001b[0mfind_all\u001b[0m\u001b[0;34m(\u001b[0m\u001b[0;34m'div'\u001b[0m\u001b[0;34m,\u001b[0m\u001b[0;34m{\u001b[0m\u001b[0;34m'class'\u001b[0m\u001b[0;34m:\u001b[0m \u001b[0;34m'main-content-wrap main-content-wrap--full'\u001b[0m\u001b[0;34m}\u001b[0m\u001b[0;34m)\u001b[0m\u001b[0;34m\u001b[0m\u001b[0;34m\u001b[0m\u001b[0m\n\u001b[1;32m     34\u001b[0m         \u001b[0;31m# print(rows[0].text[6:-4])\u001b[0m\u001b[0;34m\u001b[0m\u001b[0;34m\u001b[0m\u001b[0;34m\u001b[0m\u001b[0m\n",
            "\u001b[0;32m/usr/local/lib/python3.6/dist-packages/bs4/__init__.py\u001b[0m in \u001b[0;36m__init__\u001b[0;34m(self, markup, features, builder, parse_only, from_encoding, exclude_encodings, **kwargs)\u001b[0m\n\u001b[1;32m    243\u001b[0m \u001b[0;34m\u001b[0m\u001b[0m\n\u001b[1;32m    244\u001b[0m         \u001b[0;32mif\u001b[0m \u001b[0mhasattr\u001b[0m\u001b[0;34m(\u001b[0m\u001b[0mmarkup\u001b[0m\u001b[0;34m,\u001b[0m \u001b[0;34m'read'\u001b[0m\u001b[0;34m)\u001b[0m\u001b[0;34m:\u001b[0m        \u001b[0;31m# It's a file-type object.\u001b[0m\u001b[0;34m\u001b[0m\u001b[0;34m\u001b[0m\u001b[0m\n\u001b[0;32m--> 245\u001b[0;31m             \u001b[0mmarkup\u001b[0m \u001b[0;34m=\u001b[0m \u001b[0mmarkup\u001b[0m\u001b[0;34m.\u001b[0m\u001b[0mread\u001b[0m\u001b[0;34m(\u001b[0m\u001b[0;34m)\u001b[0m\u001b[0;34m\u001b[0m\u001b[0;34m\u001b[0m\u001b[0m\n\u001b[0m\u001b[1;32m    246\u001b[0m         elif len(markup) <= 256 and (\n\u001b[1;32m    247\u001b[0m                 \u001b[0;34m(\u001b[0m\u001b[0misinstance\u001b[0m\u001b[0;34m(\u001b[0m\u001b[0mmarkup\u001b[0m\u001b[0;34m,\u001b[0m \u001b[0mbytes\u001b[0m\u001b[0;34m)\u001b[0m \u001b[0;32mand\u001b[0m \u001b[0;32mnot\u001b[0m \u001b[0;34mb'<'\u001b[0m \u001b[0;32min\u001b[0m \u001b[0mmarkup\u001b[0m\u001b[0;34m)\u001b[0m\u001b[0;34m\u001b[0m\u001b[0;34m\u001b[0m\u001b[0m\n",
            "\u001b[0;32m/usr/lib/python3.6/http/client.py\u001b[0m in \u001b[0;36mread\u001b[0;34m(self, amt)\u001b[0m\n\u001b[1;32m    474\u001b[0m             \u001b[0;32melse\u001b[0m\u001b[0;34m:\u001b[0m\u001b[0;34m\u001b[0m\u001b[0;34m\u001b[0m\u001b[0m\n\u001b[1;32m    475\u001b[0m                 \u001b[0;32mtry\u001b[0m\u001b[0;34m:\u001b[0m\u001b[0;34m\u001b[0m\u001b[0;34m\u001b[0m\u001b[0m\n\u001b[0;32m--> 476\u001b[0;31m                     \u001b[0ms\u001b[0m \u001b[0;34m=\u001b[0m \u001b[0mself\u001b[0m\u001b[0;34m.\u001b[0m\u001b[0m_safe_read\u001b[0m\u001b[0;34m(\u001b[0m\u001b[0mself\u001b[0m\u001b[0;34m.\u001b[0m\u001b[0mlength\u001b[0m\u001b[0;34m)\u001b[0m\u001b[0;34m\u001b[0m\u001b[0;34m\u001b[0m\u001b[0m\n\u001b[0m\u001b[1;32m    477\u001b[0m                 \u001b[0;32mexcept\u001b[0m \u001b[0mIncompleteRead\u001b[0m\u001b[0;34m:\u001b[0m\u001b[0;34m\u001b[0m\u001b[0;34m\u001b[0m\u001b[0m\n\u001b[1;32m    478\u001b[0m                     \u001b[0mself\u001b[0m\u001b[0;34m.\u001b[0m\u001b[0m_close_conn\u001b[0m\u001b[0;34m(\u001b[0m\u001b[0;34m)\u001b[0m\u001b[0;34m\u001b[0m\u001b[0;34m\u001b[0m\u001b[0m\n",
            "\u001b[0;32m/usr/lib/python3.6/http/client.py\u001b[0m in \u001b[0;36m_safe_read\u001b[0;34m(self, amt)\u001b[0m\n\u001b[1;32m    624\u001b[0m         \u001b[0ms\u001b[0m \u001b[0;34m=\u001b[0m \u001b[0;34m[\u001b[0m\u001b[0;34m]\u001b[0m\u001b[0;34m\u001b[0m\u001b[0;34m\u001b[0m\u001b[0m\n\u001b[1;32m    625\u001b[0m         \u001b[0;32mwhile\u001b[0m \u001b[0mamt\u001b[0m \u001b[0;34m>\u001b[0m \u001b[0;36m0\u001b[0m\u001b[0;34m:\u001b[0m\u001b[0;34m\u001b[0m\u001b[0;34m\u001b[0m\u001b[0m\n\u001b[0;32m--> 626\u001b[0;31m             \u001b[0mchunk\u001b[0m \u001b[0;34m=\u001b[0m \u001b[0mself\u001b[0m\u001b[0;34m.\u001b[0m\u001b[0mfp\u001b[0m\u001b[0;34m.\u001b[0m\u001b[0mread\u001b[0m\u001b[0;34m(\u001b[0m\u001b[0mmin\u001b[0m\u001b[0;34m(\u001b[0m\u001b[0mamt\u001b[0m\u001b[0;34m,\u001b[0m \u001b[0mMAXAMOUNT\u001b[0m\u001b[0;34m)\u001b[0m\u001b[0;34m)\u001b[0m\u001b[0;34m\u001b[0m\u001b[0;34m\u001b[0m\u001b[0m\n\u001b[0m\u001b[1;32m    627\u001b[0m             \u001b[0;32mif\u001b[0m \u001b[0;32mnot\u001b[0m \u001b[0mchunk\u001b[0m\u001b[0;34m:\u001b[0m\u001b[0;34m\u001b[0m\u001b[0;34m\u001b[0m\u001b[0m\n\u001b[1;32m    628\u001b[0m                 \u001b[0;32mraise\u001b[0m \u001b[0mIncompleteRead\u001b[0m\u001b[0;34m(\u001b[0m\u001b[0;34mb''\u001b[0m\u001b[0;34m.\u001b[0m\u001b[0mjoin\u001b[0m\u001b[0;34m(\u001b[0m\u001b[0ms\u001b[0m\u001b[0;34m)\u001b[0m\u001b[0;34m,\u001b[0m \u001b[0mamt\u001b[0m\u001b[0;34m)\u001b[0m\u001b[0;34m\u001b[0m\u001b[0;34m\u001b[0m\u001b[0m\n",
            "\u001b[0;32m/usr/lib/python3.6/socket.py\u001b[0m in \u001b[0;36mreadinto\u001b[0;34m(self, b)\u001b[0m\n\u001b[1;32m    584\u001b[0m         \u001b[0;32mwhile\u001b[0m \u001b[0;32mTrue\u001b[0m\u001b[0;34m:\u001b[0m\u001b[0;34m\u001b[0m\u001b[0;34m\u001b[0m\u001b[0m\n\u001b[1;32m    585\u001b[0m             \u001b[0;32mtry\u001b[0m\u001b[0;34m:\u001b[0m\u001b[0;34m\u001b[0m\u001b[0;34m\u001b[0m\u001b[0m\n\u001b[0;32m--> 586\u001b[0;31m                 \u001b[0;32mreturn\u001b[0m \u001b[0mself\u001b[0m\u001b[0;34m.\u001b[0m\u001b[0m_sock\u001b[0m\u001b[0;34m.\u001b[0m\u001b[0mrecv_into\u001b[0m\u001b[0;34m(\u001b[0m\u001b[0mb\u001b[0m\u001b[0;34m)\u001b[0m\u001b[0;34m\u001b[0m\u001b[0;34m\u001b[0m\u001b[0m\n\u001b[0m\u001b[1;32m    587\u001b[0m             \u001b[0;32mexcept\u001b[0m \u001b[0mtimeout\u001b[0m\u001b[0;34m:\u001b[0m\u001b[0;34m\u001b[0m\u001b[0;34m\u001b[0m\u001b[0m\n\u001b[1;32m    588\u001b[0m                 \u001b[0mself\u001b[0m\u001b[0;34m.\u001b[0m\u001b[0m_timeout_occurred\u001b[0m \u001b[0;34m=\u001b[0m \u001b[0;32mTrue\u001b[0m\u001b[0;34m\u001b[0m\u001b[0;34m\u001b[0m\u001b[0m\n",
            "\u001b[0;32m/usr/lib/python3.6/ssl.py\u001b[0m in \u001b[0;36mrecv_into\u001b[0;34m(self, buffer, nbytes, flags)\u001b[0m\n\u001b[1;32m   1010\u001b[0m                   \u001b[0;34m\"non-zero flags not allowed in calls to recv_into() on %s\"\u001b[0m \u001b[0;34m%\u001b[0m\u001b[0;34m\u001b[0m\u001b[0;34m\u001b[0m\u001b[0m\n\u001b[1;32m   1011\u001b[0m                   self.__class__)\n\u001b[0;32m-> 1012\u001b[0;31m             \u001b[0;32mreturn\u001b[0m \u001b[0mself\u001b[0m\u001b[0;34m.\u001b[0m\u001b[0mread\u001b[0m\u001b[0;34m(\u001b[0m\u001b[0mnbytes\u001b[0m\u001b[0;34m,\u001b[0m \u001b[0mbuffer\u001b[0m\u001b[0;34m)\u001b[0m\u001b[0;34m\u001b[0m\u001b[0;34m\u001b[0m\u001b[0m\n\u001b[0m\u001b[1;32m   1013\u001b[0m         \u001b[0;32melse\u001b[0m\u001b[0;34m:\u001b[0m\u001b[0;34m\u001b[0m\u001b[0;34m\u001b[0m\u001b[0m\n\u001b[1;32m   1014\u001b[0m             \u001b[0;32mreturn\u001b[0m \u001b[0msocket\u001b[0m\u001b[0;34m.\u001b[0m\u001b[0mrecv_into\u001b[0m\u001b[0;34m(\u001b[0m\u001b[0mself\u001b[0m\u001b[0;34m,\u001b[0m \u001b[0mbuffer\u001b[0m\u001b[0;34m,\u001b[0m \u001b[0mnbytes\u001b[0m\u001b[0;34m,\u001b[0m \u001b[0mflags\u001b[0m\u001b[0;34m)\u001b[0m\u001b[0;34m\u001b[0m\u001b[0;34m\u001b[0m\u001b[0m\n",
            "\u001b[0;32m/usr/lib/python3.6/ssl.py\u001b[0m in \u001b[0;36mread\u001b[0;34m(self, len, buffer)\u001b[0m\n\u001b[1;32m    872\u001b[0m             \u001b[0;32mraise\u001b[0m \u001b[0mValueError\u001b[0m\u001b[0;34m(\u001b[0m\u001b[0;34m\"Read on closed or unwrapped SSL socket.\"\u001b[0m\u001b[0;34m)\u001b[0m\u001b[0;34m\u001b[0m\u001b[0;34m\u001b[0m\u001b[0m\n\u001b[1;32m    873\u001b[0m         \u001b[0;32mtry\u001b[0m\u001b[0;34m:\u001b[0m\u001b[0;34m\u001b[0m\u001b[0;34m\u001b[0m\u001b[0m\n\u001b[0;32m--> 874\u001b[0;31m             \u001b[0;32mreturn\u001b[0m \u001b[0mself\u001b[0m\u001b[0;34m.\u001b[0m\u001b[0m_sslobj\u001b[0m\u001b[0;34m.\u001b[0m\u001b[0mread\u001b[0m\u001b[0;34m(\u001b[0m\u001b[0mlen\u001b[0m\u001b[0;34m,\u001b[0m \u001b[0mbuffer\u001b[0m\u001b[0;34m)\u001b[0m\u001b[0;34m\u001b[0m\u001b[0;34m\u001b[0m\u001b[0m\n\u001b[0m\u001b[1;32m    875\u001b[0m         \u001b[0;32mexcept\u001b[0m \u001b[0mSSLError\u001b[0m \u001b[0;32mas\u001b[0m \u001b[0mx\u001b[0m\u001b[0;34m:\u001b[0m\u001b[0;34m\u001b[0m\u001b[0;34m\u001b[0m\u001b[0m\n\u001b[1;32m    876\u001b[0m             \u001b[0;32mif\u001b[0m \u001b[0mx\u001b[0m\u001b[0;34m.\u001b[0m\u001b[0margs\u001b[0m\u001b[0;34m[\u001b[0m\u001b[0;36m0\u001b[0m\u001b[0;34m]\u001b[0m \u001b[0;34m==\u001b[0m \u001b[0mSSL_ERROR_EOF\u001b[0m \u001b[0;32mand\u001b[0m \u001b[0mself\u001b[0m\u001b[0;34m.\u001b[0m\u001b[0msuppress_ragged_eofs\u001b[0m\u001b[0;34m:\u001b[0m\u001b[0;34m\u001b[0m\u001b[0;34m\u001b[0m\u001b[0m\n",
            "\u001b[0;32m/usr/lib/python3.6/ssl.py\u001b[0m in \u001b[0;36mread\u001b[0;34m(self, len, buffer)\u001b[0m\n\u001b[1;32m    629\u001b[0m         \"\"\"\n\u001b[1;32m    630\u001b[0m         \u001b[0;32mif\u001b[0m \u001b[0mbuffer\u001b[0m \u001b[0;32mis\u001b[0m \u001b[0;32mnot\u001b[0m \u001b[0;32mNone\u001b[0m\u001b[0;34m:\u001b[0m\u001b[0;34m\u001b[0m\u001b[0;34m\u001b[0m\u001b[0m\n\u001b[0;32m--> 631\u001b[0;31m             \u001b[0mv\u001b[0m \u001b[0;34m=\u001b[0m \u001b[0mself\u001b[0m\u001b[0;34m.\u001b[0m\u001b[0m_sslobj\u001b[0m\u001b[0;34m.\u001b[0m\u001b[0mread\u001b[0m\u001b[0;34m(\u001b[0m\u001b[0mlen\u001b[0m\u001b[0;34m,\u001b[0m \u001b[0mbuffer\u001b[0m\u001b[0;34m)\u001b[0m\u001b[0;34m\u001b[0m\u001b[0;34m\u001b[0m\u001b[0m\n\u001b[0m\u001b[1;32m    632\u001b[0m         \u001b[0;32melse\u001b[0m\u001b[0;34m:\u001b[0m\u001b[0;34m\u001b[0m\u001b[0;34m\u001b[0m\u001b[0m\n\u001b[1;32m    633\u001b[0m             \u001b[0mv\u001b[0m \u001b[0;34m=\u001b[0m \u001b[0mself\u001b[0m\u001b[0;34m.\u001b[0m\u001b[0m_sslobj\u001b[0m\u001b[0;34m.\u001b[0m\u001b[0mread\u001b[0m\u001b[0;34m(\u001b[0m\u001b[0mlen\u001b[0m\u001b[0;34m)\u001b[0m\u001b[0;34m\u001b[0m\u001b[0;34m\u001b[0m\u001b[0m\n",
            "\u001b[0;31mConnectionResetError\u001b[0m: [Errno 104] Connection reset by peer"
          ]
        }
      ]
    },
    {
      "cell_type": "code",
      "metadata": {
        "colab": {
          "base_uri": "https://localhost:8080/"
        },
        "id": "C7vUDFw7umO8",
        "outputId": "abd340ef-a9a3-4a42-97f2-88bd7698d3c7"
      },
      "source": [
        "err"
      ],
      "execution_count": null,
      "outputs": [
        {
          "output_type": "execute_result",
          "data": {
            "text/plain": [
              "['UB1mGugr1pvgUUP1eTNXrg', '#']"
            ]
          },
          "metadata": {
            "tags": []
          },
          "execution_count": 26
        }
      ]
    },
    {
      "cell_type": "code",
      "metadata": {
        "colab": {
          "base_uri": "https://localhost:8080/"
        },
        "id": "qlKG3dU7X3ZW",
        "outputId": "6f9b5f61-258b-4964-a2a3-967c66b82d42"
      },
      "source": [
        "df.shape"
      ],
      "execution_count": null,
      "outputs": [
        {
          "output_type": "execute_result",
          "data": {
            "text/plain": [
              "(6221, 4)"
            ]
          },
          "metadata": {
            "tags": []
          },
          "execution_count": 24
        }
      ]
    },
    {
      "cell_type": "code",
      "metadata": {
        "id": "F_MvQmwv9fyq"
      },
      "source": [
        "df.to_csv('scraped.csv',index=False)"
      ],
      "execution_count": null,
      "outputs": []
    },
    {
      "cell_type": "code",
      "metadata": {
        "colab": {
          "base_uri": "https://localhost:8080/",
          "height": 204
        },
        "id": "xH0TljsQNjd2",
        "outputId": "7666fefe-88f9-49d6-b260-b9184f0111df"
      },
      "source": [
        "# sentiment analysis\n",
        "df['polarity'] = df['review'].apply(lambda x: TextBlob(x).sentiment[0])\n",
        "df['polarity_no_stopwords'] = df['review_no_stopwords'].apply(lambda x: TextBlob(x).sentiment[0])\n",
        "df.head()"
      ],
      "execution_count": null,
      "outputs": [
        {
          "output_type": "execute_result",
          "data": {
            "text/html": [
              "<div>\n",
              "<style scoped>\n",
              "    .dataframe tbody tr th:only-of-type {\n",
              "        vertical-align: middle;\n",
              "    }\n",
              "\n",
              "    .dataframe tbody tr th {\n",
              "        vertical-align: top;\n",
              "    }\n",
              "\n",
              "    .dataframe thead th {\n",
              "        text-align: right;\n",
              "    }\n",
              "</style>\n",
              "<table border=\"1\" class=\"dataframe\">\n",
              "  <thead>\n",
              "    <tr style=\"text-align: right;\">\n",
              "      <th></th>\n",
              "      <th>date</th>\n",
              "      <th>rating</th>\n",
              "      <th>review</th>\n",
              "      <th>review_no_stopwords</th>\n",
              "      <th>name</th>\n",
              "      <th>polarity</th>\n",
              "      <th>polarity_no_stopwords</th>\n",
              "    </tr>\n",
              "  </thead>\n",
              "  <tbody>\n",
              "    <tr>\n",
              "      <th>0</th>\n",
              "      <td>9/13/2020</td>\n",
              "      <td>1</td>\n",
              "      <td>disinterested staff is bad enough but what i w...</td>\n",
              "      <td>disinterested staff bad served today ordering ...</td>\n",
              "      <td>starbucks</td>\n",
              "      <td>-0.050000</td>\n",
              "      <td>-0.066667</td>\n",
              "    </tr>\n",
              "    <tr>\n",
              "      <th>1</th>\n",
              "      <td>8/20/2020</td>\n",
              "      <td>1</td>\n",
              "      <td>i cannot believe iamp39m writing this right no...</td>\n",
              "      <td>believe iamp39m writing right incredibly rude ...</td>\n",
              "      <td>starbucks</td>\n",
              "      <td>0.085268</td>\n",
              "      <td>0.035913</td>\n",
              "    </tr>\n",
              "    <tr>\n",
              "      <th>2</th>\n",
              "      <td>8/10/2020</td>\n",
              "      <td>1</td>\n",
              "      <td>let me start off by saying the drinks i ordere...</td>\n",
              "      <td>let start saying drinks ordered tasted amazing...</td>\n",
              "      <td>starbucks</td>\n",
              "      <td>0.186364</td>\n",
              "      <td>0.255556</td>\n",
              "    </tr>\n",
              "    <tr>\n",
              "      <th>3</th>\n",
              "      <td>7/24/2020</td>\n",
              "      <td>1</td>\n",
              "      <td>you need to prune some dead branches off this ...</td>\n",
              "      <td>need prune dead branches bush specifically cas...</td>\n",
              "      <td>starbucks</td>\n",
              "      <td>0.083333</td>\n",
              "      <td>-0.022222</td>\n",
              "    </tr>\n",
              "    <tr>\n",
              "      <th>4</th>\n",
              "      <td>6/30/2020</td>\n",
              "      <td>1</td>\n",
              "      <td>i come to this store daily i came in at 656pm ...</td>\n",
              "      <td>come store daily came 656pm told store closed ...</td>\n",
              "      <td>starbucks</td>\n",
              "      <td>-0.150000</td>\n",
              "      <td>-0.150000</td>\n",
              "    </tr>\n",
              "  </tbody>\n",
              "</table>\n",
              "</div>"
            ],
            "text/plain": [
              "        date rating  ...  polarity polarity_no_stopwords\n",
              "0  9/13/2020      1  ... -0.050000             -0.066667\n",
              "1  8/20/2020      1  ...  0.085268              0.035913\n",
              "2  8/10/2020      1  ...  0.186364              0.255556\n",
              "3  7/24/2020      1  ...  0.083333             -0.022222\n",
              "4  6/30/2020      1  ... -0.150000             -0.150000\n",
              "\n",
              "[5 rows x 7 columns]"
            ]
          },
          "metadata": {
            "tags": []
          },
          "execution_count": 51
        }
      ]
    },
    {
      "cell_type": "code",
      "metadata": {
        "colab": {
          "base_uri": "https://localhost:8080/",
          "height": 204
        },
        "id": "3okj2dnTFBxK",
        "outputId": "ae628189-4e99-4b64-feac-571779450d8f"
      },
      "source": [
        "df.groupby('rating')['polarity'].mean().reset_index()"
      ],
      "execution_count": null,
      "outputs": [
        {
          "output_type": "execute_result",
          "data": {
            "text/html": [
              "<div>\n",
              "<style scoped>\n",
              "    .dataframe tbody tr th:only-of-type {\n",
              "        vertical-align: middle;\n",
              "    }\n",
              "\n",
              "    .dataframe tbody tr th {\n",
              "        vertical-align: top;\n",
              "    }\n",
              "\n",
              "    .dataframe thead th {\n",
              "        text-align: right;\n",
              "    }\n",
              "</style>\n",
              "<table border=\"1\" class=\"dataframe\">\n",
              "  <thead>\n",
              "    <tr style=\"text-align: right;\">\n",
              "      <th></th>\n",
              "      <th>rating</th>\n",
              "      <th>polarity</th>\n",
              "    </tr>\n",
              "  </thead>\n",
              "  <tbody>\n",
              "    <tr>\n",
              "      <th>0</th>\n",
              "      <td>1</td>\n",
              "      <td>-0.039939</td>\n",
              "    </tr>\n",
              "    <tr>\n",
              "      <th>1</th>\n",
              "      <td>2</td>\n",
              "      <td>0.128937</td>\n",
              "    </tr>\n",
              "    <tr>\n",
              "      <th>2</th>\n",
              "      <td>3</td>\n",
              "      <td>0.114549</td>\n",
              "    </tr>\n",
              "    <tr>\n",
              "      <th>3</th>\n",
              "      <td>4</td>\n",
              "      <td>0.225554</td>\n",
              "    </tr>\n",
              "    <tr>\n",
              "      <th>4</th>\n",
              "      <td>5</td>\n",
              "      <td>0.372342</td>\n",
              "    </tr>\n",
              "  </tbody>\n",
              "</table>\n",
              "</div>"
            ],
            "text/plain": [
              "   rating  polarity\n",
              "0       1 -0.039939\n",
              "1       2  0.128937\n",
              "2       3  0.114549\n",
              "3       4  0.225554\n",
              "4       5  0.372342"
            ]
          },
          "metadata": {
            "tags": []
          },
          "execution_count": 53
        }
      ]
    },
    {
      "cell_type": "markdown",
      "metadata": {
        "id": "HEyAJXD4USnv"
      },
      "source": [
        "It looks like the polarity range is larger when we extract sentiments from reviews with no stop words, so we'll use `polarity_no_stopwods` for our model."
      ]
    },
    {
      "cell_type": "code",
      "metadata": {
        "colab": {
          "base_uri": "https://localhost:8080/"
        },
        "id": "Lg_Uaj477Ghr",
        "outputId": "6821ecd9-a0dd-4f13-b834-5f4f96353b4a"
      },
      "source": [
        "for i in data.keys():\n",
        "  if type(data[i]) == dict:\n",
        "    for j in data[i].keys():\n",
        "      if type(data[i][j]) == dict:\n",
        "        if 'reviews' in data[i][j].keys():\n",
        "          print(j)\n",
        "          print(i)\n",
        "          print(data[i].keys())\n",
        "        # print(data[i][j].keys())"
      ],
      "execution_count": null,
      "outputs": [
        {
          "output_type": "stream",
          "text": [
            "reviewFeedQueryProps\n",
            "bizDetailsPageProps\n",
            "dict_keys(['facebookCustomAudienceProps', 'callToActionProps', 'liverampTrackingProps', 'realtorDataProps', 'adUnitsBelowReviewProps', 'showOnTheMenu', 'bizQuestionsProps', 'isStickySidebarEnabled', 'interfaceLocaleCode', 'verifiedLicenseProps', 'rewardsWidgetProps', 'showCollapsedPage', 'surveyQuestionsModalProps', 'adUnitsAboveReviewProps', 'adUnitsSidebarProps', 'showPartnerAttribution', 'claimStatusGQLProps', 'popularDishesCarouselProps', 'checkInOfferProps', 'photoHeaderProps', 'claimReminderProps', 'showGoogleOneTap', 'sponsoredBusinessHighlightsProps', 'specialHoursAlertProps', 'businessPostsCarouselProps', 'serviceOfferingsProps', 'mediaShowcaseProps', 'businessAlertProps', 'claimTeaserSidebarProps', 'yelpGuaranteedProps', 'bizPortfolioProps', 'forceSsr', 'businessIsAdvertiser', 'possibleBusinessOwnerModalProps', 'giftCertificateProps', 'adCarouselAboveReviewProps', 'notRecommendedReviewsProps', 'requestAQuoteStickyBarProps', 'followButtonProps', 'fromTheBusinessProps', 'sidebarWidgetsProps', 'surveyQuestionsInlineProps', 'cityPageAlias', 'actionBarControllerProps', 'reviewHighlightsProps', 'fullscreenPitchProps', 'ratingDetailsProps', 'requestAQuoteBillboardProps', 'dealProps', 'adBizComparisonProps', 'mapBoxProps', 'reviewFeedQueryProps', 'healthDataProps', 'adCarouselBelowReviewProps', 'claimTeaserReviewSectionProps', 'staticReviewFeedProps', 'maternityDataProps', 'relatedBusinessesListProps', 'forceGermanLegalText', 'businessId', 'interfaceLanguageCode', 'businessName', 'relatedBusinessesCarouselProps', 'isContentfulLayout', 'autoOpeningMessagingModalProps', 'seoLinksProps', 'signupNudgeProps', 'bizContactInfoProps', 'featurePlacements', 'collectionCardCarouselProps', 'bizDiscoveryTopPitchProps', 'consumerAlertProps', 'offerCampaignCarouselProps'])\n"
          ],
          "name": "stdout"
        }
      ]
    },
    {
      "cell_type": "code",
      "metadata": {
        "id": "Oul3cLSz_s4i"
      },
      "source": [
        "#Backup\n",
        "\n",
        "\n",
        "\n",
        "\n",
        "\n",
        "\n",
        "# df = pd.DataFrame(columns={'name', 'date', 'review', 'rating', 'review_no_stopwords'})\n",
        "# id = 'bl3-rGjqjaJa_nkW4aMlIg'\n",
        "# name = 'starbucks'\n",
        "# i = 0\n",
        "# while True:\n",
        "#   # get webpage\n",
        "#   # url = 'https://www.yelp.com/biz/bl3-rGjqjaJa_nkW4aMlIg&start={}&sort_by=date_desc'.format(i)\n",
        "#   url = get_redirect(id)\n",
        "#   query = '?start={}&sort_by=date_desc'.format(i)\n",
        "\n",
        "#   url += query\n",
        "#   print(url)\n",
        "#   ourUrl = urllib.request.urlopen(url)\n",
        "#   soup = BeautifulSoup(ourUrl,'html.parser')\n",
        "#   rows = soup.find_all('div',{'class': 'main-content-wrap main-content-wrap--full'})\n",
        "#   rows = json.loads(rows[0].text[6:-4])\n",
        "\n",
        "#   #Increment the page number specifier\n",
        "#   i += 20\n",
        "  \n",
        "# #   test = rows['bizDetailsPageProps']['reviewFeedQueryProps']['reviews']\n",
        "# #   break\n",
        "#   #Break if no rows found\n",
        "#   if not rows['bizDetailsPageProps']['reviewFeedQueryProps']['reviews']:\n",
        "#       break\n",
        "#   for rev in rows['bizDetailsPageProps']['reviewFeedQueryProps']['reviews']:\n",
        "#     review = rev['comment']['text']\n",
        "#     rating = int(rev['rating'])\n",
        "#     date = rev['localizedDate']\n",
        "\n",
        "#     review = review.lower()\n",
        "#     review = \"\".join(l for l in review if l not in string.punctuation)\n",
        "\n",
        "#     # remove stopwords\n",
        "#     review_no_stopwords = word_tokenize(review)\n",
        "#     review_no_stopwords = \" \".join([word for word in review_no_stopwords if not word in all_stopwords])\n",
        "\n",
        "#     data = {'name': name,\n",
        "#             'date': date,\n",
        "#             'rating': rating,\n",
        "#             'review_no_stopwords': review_no_stopwords,\n",
        "#             'review': review,\n",
        "#     }\n",
        "#     df = df.append(data, ignore_index=True)\n",
        "  \n",
        "# #   time.sleep(8)"
      ],
      "execution_count": null,
      "outputs": []
    }
  ]
}