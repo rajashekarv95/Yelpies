{
  "nbformat": 4,
  "nbformat_minor": 0,
  "metadata": {
    "colab": {
      "name": "feature_encoding.ipynb",
      "provenance": []
    },
    "kernelspec": {
      "name": "python3",
      "display_name": "Python 3"
    }
  },
  "cells": [
    {
      "cell_type": "code",
      "metadata": {
        "id": "9uU_gk8dS9LZ"
      },
      "source": [
        "import pandas as pd\n",
        "import numpy as np\n",
        "\n",
        "from sklearn import preprocessing\n",
        "from sklearn.preprocessing import LabelEncoder, OneHotEncoder"
      ],
      "execution_count": 24,
      "outputs": []
    },
    {
      "cell_type": "code",
      "metadata": {
        "id": "ya3PqK3IVxco"
      },
      "source": [
        "le = preprocessing.LabelEncoder()\n"
      ],
      "execution_count": 25,
      "outputs": []
    },
    {
      "cell_type": "code",
      "metadata": {
        "id": "WVhg5J62Xxgx"
      },
      "source": [
        "data = pd.read_csv('data_50_reviews.csv')\n",
        "df = data"
      ],
      "execution_count": 46,
      "outputs": []
    },
    {
      "cell_type": "code",
      "metadata": {
        "id": "i6KyKst5bJum"
      },
      "source": [
        "## Label encoding\n",
        "\n",
        "def encoded_cols(df):\n",
        "  cols_to_encode = []\n",
        "  for col in df.columns:\n",
        "    if df[col].dtype == object:\n",
        "      cols_to_encode.append(col)\n",
        "\n",
        "  return cols_to_encode\n",
        "\n",
        "def label_encoding(df, cols_to_encode):\n",
        "   le.fit(df[cols_to_encode].values.flatten())\n",
        "   df[cols_to_encode] = df[cols_to_encode].apply(le.fit_transform)\n",
        "   return df\n",
        "  \n",
        "def mapping(df, cols_to_encode):\n",
        "   mapping = {}\n",
        "   for i in cols_to_encode:\n",
        "    mapping.update(dict(zip(le.classes_, range(len(le.classes_)))))\n",
        "    return mapping\n",
        "\n",
        "def apply_map_to_test(df_test, cols_to_encode):\n",
        "  for col in cols_to_encode:\n",
        "    df_test[col] = df_test[col].apply(lambda x: mapping.get(x))\n",
        "    return df_test\n",
        "\n",
        "\n",
        "\n",
        "## One-hot encoding \n",
        "\n",
        "def one_hot(df, cols_to_encode):\n",
        "  df_subset_cat = df[cols_to_encode]\n",
        "  df_subset_num = df[df.columns.difference(cols_to_encode)]\n",
        "\n",
        "  df_subset_cat_ohe = pd.get_dummies(df_subset_cat)\n",
        "  df_col_merged = pd.concat([df_subset_cat_ohe, df_subset_num], axis=1)\n",
        "\n",
        "  return df_col_merged\n"
      ],
      "execution_count": 47,
      "outputs": []
    },
    {
      "cell_type": "code",
      "metadata": {
        "id": "qqWRFhKfYfvi"
      },
      "source": [
        "## Get categorical columns\n",
        "cols_to_encode = encoded_cols(data)\n",
        "\n",
        "# label encoding\n",
        "le = preprocessing.LabelEncoder()\n",
        "data = label_encoding(data, cols_to_encode)\n",
        "mapping = mapping(data, cols_to_encode)\n",
        "# data_test = apply_map_to_test(df, cols_to_encode)\n",
        "\n"
      ],
      "execution_count": 48,
      "outputs": []
    },
    {
      "cell_type": "code",
      "metadata": {
        "id": "-jjp9p7qaPTt"
      },
      "source": [
        "cols_to_encode = encoded_cols(data)\n",
        "encoded_data = one_hot(df, cols_to_encode)"
      ],
      "execution_count": 41,
      "outputs": []
    },
    {
      "cell_type": "code",
      "metadata": {
        "id": "sU3H-Vy0bBMc"
      },
      "source": [
        ""
      ],
      "execution_count": null,
      "outputs": []
    }
  ]
}